{
 "cells": [
  {
   "cell_type": "markdown",
   "id": "63e44f4b",
   "metadata": {},
   "source": [
    "# Sentiment Analysis using a RoBERTa model"
   ]
  },
  {
   "cell_type": "code",
   "execution_count": 1,
   "id": "bbabe1a2",
   "metadata": {},
   "outputs": [],
   "source": [
    "# import necessary packages\n",
    "import pandas as pd\n",
    "import matplotlib.pyplot as plt\n",
    "import sys\n",
    "\n",
    "# Packages for file opening\n",
    "import tkinter as tk\n",
    "from tkinter import filedialog\n",
    "\n",
    "plt.style.use('ggplot')\n",
    "import seaborn as sns\n",
    "import nltk\n",
    "\n",
    "# Packages for RoBERTa model\n",
    "from transformers import AutoTokenizer\n",
    "from transformers import AutoModelForSequenceClassification\n",
    "from scipy.special import softmax"
   ]
  },
  {
   "cell_type": "code",
   "execution_count": 2,
   "id": "fe2c8317",
   "metadata": {},
   "outputs": [],
   "source": [
    "# Create Tkinter root window\n",
    "root = tk.Tk()\n",
    "root.withdraw()\n",
    "\n",
    "# Prompt the user to select an Excel file using a file dialog\n",
    "file_path = filedialog.askopenfilename(filetypes=[(\"Excel Files\", \"*.xls *.xlsx\")])"
   ]
  },
  {
   "cell_type": "code",
   "execution_count": 3,
   "id": "8efa3aef",
   "metadata": {},
   "outputs": [
    {
     "name": "stdout",
     "output_type": "stream",
     "text": [
      "0      5\n",
      "1      1\n",
      "2      4\n",
      "3      2\n",
      "4      5\n",
      "      ..\n",
      "993    5\n",
      "994    5\n",
      "995    5\n",
      "996    1\n",
      "997    2\n",
      "Name: Score, Length: 998, dtype: int64\n"
     ]
    }
   ],
   "source": [
    "# Close program if no file opened\n",
    "if not file_path:\n",
    "    print(\"No file selected. Ending program now.\")\n",
    "    sys.exit()\n",
    "\n",
    "# Read selected excel file using pandas\n",
    "data = pd.read_excel(file_path)\n",
    "print(data['Score'])"
   ]
  },
  {
   "cell_type": "code",
   "execution_count": 4,
   "id": "45bacb39",
   "metadata": {},
   "outputs": [
    {
     "data": {
      "image/png": "[encoded data removed]",
      "text/plain": [
       "<Figure size 720x360 with 1 Axes>"
      ]
     },
     "metadata": {},
     "output_type": "display_data"
    }
   ],
   "source": [
    "# Create and show histogram showing counts of review stars\n",
    "score_plot = data['Score'].value_counts().sort_index().plot(kind='bar',\n",
    "                                                            title='Count of Reviews', figsize=(10, 5),\n",
    "                                                            color='gray', edgecolor='black')\n",
    "score_plot.set_xlabel('Review Stars')\n",
    "plt.show()"
   ]
  },
  {
   "cell_type": "code",
   "execution_count": 5,
   "id": "098cbe93",
   "metadata": {},
   "outputs": [
    {
     "name": "stdout",
     "output_type": "stream",
     "text": [
      "The candy is just red , No flavor . Just  plan and chewy .  I would never buy them again\n"
     ]
    }
   ],
   "source": [
    "# NLTK initialization\n",
    "example = data['Text'][26]\n",
    "tokens = nltk.word_tokenize(example)\n",
    "tagged = nltk.pos_tag(tokens)\n",
    "chunked = nltk.chunk.ne_chunk(tagged)\n",
    "print(example)"
   ]
  },
  {
   "cell_type": "code",
   "execution_count": 6,
   "id": "e1aff8ac",
   "metadata": {},
   "outputs": [],
   "source": [
    "from nltk.sentiment import SentimentIntensityAnalyzer\n",
    "from tqdm import tqdm"
   ]
  },
  {
   "cell_type": "code",
   "execution_count": 7,
   "id": "a659e431",
   "metadata": {},
   "outputs": [],
   "source": [
    "sia = SentimentIntensityAnalyzer()\n",
    "results = {}"
   ]
  },
  {
   "cell_type": "code",
   "execution_count": 8,
   "id": "4dbe07e0",
   "metadata": {},
   "outputs": [],
   "source": [
    "#RoBERTa (Robustly Optimized Bidirectional Encoder Representations from Transformers) Model\n",
    "MODEL = f\"cardiffnlp/twitter-roberta-base-sentiment\"\n",
    "tokenizer = AutoTokenizer.from_pretrained(MODEL)\n",
    "model = AutoModelForSequenceClassification.from_pretrained(MODEL)\n",
    "\n",
    "encoded_text = tokenizer(example, return_tensors='pt', max_length=512, truncation=True)\n",
    "output = model(**encoded_text)\n",
    "scores = output[0][0].detach().numpy()\n",
    "scores = softmax(scores)\n",
    "scores_dict = {\n",
    "    \"roberta_neg\" : scores[0],\n",
    "    \"roberta_neu\" : scores[1],\n",
    "    \"roberta_pos\" : scores[2]\n",
    "}"
   ]
  },
  {
   "cell_type": "code",
   "execution_count": 9,
   "id": "72f9cd57",
   "metadata": {},
   "outputs": [],
   "source": [
    "#Set up function to use RoBERTa model on data\n",
    "def polarity_scores_roberta(example):\n",
    "    encoded_text = tokenizer(example, return_tensors='pt', max_length=512, truncation=True)\n",
    "    output = model(**encoded_text)\n",
    "    scores = output[0][0].detach().numpy()\n",
    "    scores = softmax(scores)\n",
    "    scores_dict = {\n",
    "        \"roberta_neg\": scores[0],\n",
    "        \"roberta_neu\": scores[1],\n",
    "        \"roberta_pos\": scores[2]\n",
    "    }\n",
    "    return scores_dict"
   ]
  },
  {
   "cell_type": "code",
   "execution_count": 10,
   "id": "01eb8392",
   "metadata": {},
   "outputs": [],
   "source": [
    "#Function to convert RoBERTa model results into easy to read column\n",
    "def get_sentiment(row):\n",
    "    if row['roberta_neg'] > row['roberta_pos'] and row['roberta_neg'] > row['roberta_neu']:\n",
    "        return 'Negative'\n",
    "    if row['roberta_pos'] > row['roberta_neg'] and row['roberta_pos'] > row['roberta_neu']:\n",
    "        return 'Positive'\n",
    "    if row['roberta_neu'] > row['roberta_pos'] and row['roberta_neu'] > row['roberta_neg']:\n",
    "        return 'Neutral'\n",
    "    else:\n",
    "        return 'Uh oh'"
   ]
  },
  {
   "cell_type": "code",
   "execution_count": 11,
   "id": "48509a7c",
   "metadata": {},
   "outputs": [
    {
     "name": "stderr",
     "output_type": "stream",
     "text": [
      "100%|██████████| 998/998 [01:20<00:00, 12.37it/s]\n"
     ]
    }
   ],
   "source": [
    "#Run RoBERTa model on data\n",
    "for i, row in tqdm(data.iterrows(), total=len(data)):\n",
    "    try:\n",
    "        text = row['Text']\n",
    "        myid = row['Id']\n",
    "        # Converts non string variables to strings\n",
    "        if type(text) is not str:\n",
    "            text = str(text)\n",
    "        roberta_results = polarity_scores_roberta(text)\n",
    "\n",
    "        results[myid] = roberta_results\n",
    "    except RuntimeError:\n",
    "        print(f'Broke for id {myid}')"
   ]
  },
  {
   "cell_type": "code",
   "execution_count": 12,
   "id": "109d2178",
   "metadata": {},
   "outputs": [],
   "source": [
    "#Apply results to a pandas dataframe and create the new user friendly column\n",
    "roberta = pd.DataFrame(results).T\n",
    "roberta = roberta.reset_index().rename(columns={'index': 'Id'})\n",
    "roberta = roberta.merge(data, how='left')\n",
    "roberta['sentiment'] = roberta.apply(get_sentiment, axis=1)"
   ]
  },
  {
   "cell_type": "code",
   "execution_count": 13,
   "id": "d9f168d4",
   "metadata": {},
   "outputs": [
    {
     "data": {
      "image/png": "[encoded data removed]",
      "text/plain": [
       "<Figure size 432x288 with 1 Axes>"
      ]
     },
     "metadata": {},
     "output_type": "display_data"
    }
   ],
   "source": [
    "# Check compound score from roberta model against star score review\n",
    "tester_plot = sns.barplot(data=roberta, x='Score', y='sentiment')\n",
    "tester_plot.set_title('Sentiment Classification by Amazon Star Review')\n",
    "plt.show()"
   ]
  },
  {
   "cell_type": "code",
   "execution_count": 14,
   "id": "194587bc",
   "metadata": {},
   "outputs": [
    {
     "data": {
      "image/png": "[encoded data removed]",
      "text/plain": [
       "<Figure size 432x288 with 1 Axes>"
      ]
     },
     "metadata": {},
     "output_type": "display_data"
    }
   ],
   "source": [
    "# Pie chart showing sentiment\n",
    "sentiment_counts = roberta['sentiment'].value_counts()\n",
    "plt.pie(sentiment_counts, labels=sentiment_counts.index, autopct='%1.1f%%')\n",
    "plt.axis('equal')\n",
    "plt.title('Sentiment Breakdown')\n",
    "plt.show()"
   ]
  },
  {
   "cell_type": "code",
   "execution_count": 15,
   "id": "0707bda3",
   "metadata": {},
   "outputs": [],
   "source": [
    "# Choose file name and location\n",
    "export_path = filedialog.asksaveasfilename(defaultextension='.xlsx', filetypes=[('Excel Files', '*.xlsx')])"
   ]
  },
  {
   "cell_type": "code",
   "execution_count": 16,
   "id": "8540fe17",
   "metadata": {},
   "outputs": [
    {
     "name": "stdout",
     "output_type": "stream",
     "text": [
      "   Id  roberta_neg  roberta_neu  roberta_pos   ProductId          UserId  \\\n",
      "0   1     0.009624     0.049980     0.940395  B001E4KFG0  A3SGXH7AUHU8GW   \n",
      "1   2     0.508986     0.452414     0.038600  B00813GRG4  A1D87F6ZCVE5NK   \n",
      "2   3     0.003229     0.098067     0.898704  B000LQOCH0   ABXLMWJIXXAIN   \n",
      "3   4     0.002295     0.090219     0.907486  B000UA0QIQ  A395BORC6FGVXV   \n",
      "4   5     0.001635     0.010302     0.988063  B006K2ZZ7K  A1UQRSCLF8GW1T   \n",
      "\n",
      "                       ProfileName HelpfulnessNumerator  \\\n",
      "0                       delmartian                    1   \n",
      "1                           dll pa                    0   \n",
      "2  Natalia Corres \"Natalia Corres\"                    1   \n",
      "3                             Karl                    3   \n",
      "4    Michael D. Bigham \"M. Wassir\"                    0   \n",
      "\n",
      "   HelpfulnessDenominator  Score        Time                Summary  \\\n",
      "0                       1      5  1303862400  Good Quality Dog Food   \n",
      "1                       0      1  1346976000      Not as Advertised   \n",
      "2                       1      4  1219017600  \"Delight\" says it all   \n",
      "3                       3      2  1307923200         Cough Medicine   \n",
      "4                       0      5  1350777600            Great taffy   \n",
      "\n",
      "                                                Text sentiment  \n",
      "0  I have bought several of the Vitality canned d...  Positive  \n",
      "1  Product arrived labeled as Jumbo Salted Peanut...  Negative  \n",
      "2  This is a confection that has been around a fe...  Positive  \n",
      "3  If you are looking for the secret ingredient i...  Positive  \n",
      "4  Great taffy at a great price.  There was a wid...  Positive  \n"
     ]
    }
   ],
   "source": [
    "print(roberta.head(5))"
   ]
  },
  {
   "cell_type": "code",
   "execution_count": 17,
   "id": "94c55733",
   "metadata": {},
   "outputs": [],
   "source": [
    "# End program if no export path chosen\n",
    "if not export_path:\n",
    "    print(\"No file saved. Program will exit.\")\n",
    "    sys.exit()"
   ]
  },
  {
   "cell_type": "code",
   "execution_count": 18,
   "id": "498a4719",
   "metadata": {},
   "outputs": [],
   "source": [
    "# Export to Excel\n",
    "roberta.to_excel(export_path, index=False)"
   ]
  },
  {
   "cell_type": "code",
   "execution_count": null,
   "id": "320a7587",
   "metadata": {},
   "outputs": [],
   "source": []
  }
 ],
 "metadata": {
  "kernelspec": {
   "display_name": "Python 3 (ipykernel)",
   "language": "python",
   "name": "python3"
  },
  "language_info": {
   "codemirror_mode": {
    "name": "ipython",
    "version": 3
   },
   "file_extension": ".py",
   "mimetype": "text/x-python",
   "name": "python",
   "nbconvert_exporter": "python",
   "pygments_lexer": "ipython3",
   "version": "3.9.7"
  }
 },
 "nbformat": 4,
 "nbformat_minor": 5
}
